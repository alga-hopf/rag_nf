{
 "cells": [
  {
   "cell_type": "markdown",
   "metadata": {},
   "source": [
    "# Normal form for right angled groups\n",
    "\n",
    "These notebook allows to compute explicitly the normal form for elements in a right-angled group (RAG)."
   ]
  },
  {
   "cell_type": "code",
   "execution_count": 1,
   "metadata": {},
   "outputs": [],
   "source": [
    "import os\n",
    "import sys\n",
    "sys.path.insert(0, os.path.abspath(os.path.expanduser('~/rag_nf')))\n",
    "from rag_normal_form import functions_normal_form as nf"
   ]
  },
  {
   "cell_type": "markdown",
   "metadata": {},
   "source": [
    "Here we define the graph (with the NetworkX sintax) and the sets of black and white vertices"
   ]
  },
  {
   "cell_type": "code",
   "execution_count": 2,
   "metadata": {},
   "outputs": [
    {
     "data": {
      "image/png": "[encoded data removed]",
      "text/plain": [
       "<Figure size 432x288 with 1 Axes>"
      ]
     },
     "metadata": {},
     "output_type": "display_data"
    }
   ],
   "source": [
    "verticesLink={1:[2,3,5],2:[1,3,6],3:[1,2,4],4:[3,5,6],5:[4,6,1],6:[2,4,5]}\n",
    "Vb=[2,3,4,5] # set of black vertices\n",
    "G=nf.bic_graph(verticesLink,Vb) # bicolored graph\n",
    "nf.draw_graph(G) # draw the bicolored graph"
   ]
  },
  {
   "cell_type": "markdown",
   "metadata": {},
   "source": [
    "How the graph is stored"
   ]
  },
  {
   "cell_type": "code",
   "execution_count": 3,
   "metadata": {},
   "outputs": [
    {
     "data": {
      "text/plain": [
       "[<networkx.classes.graph.Graph at 0x7fce6d6273d0>, [[2, 3, 4, 5], [1, 6]]]"
      ]
     },
     "execution_count": 3,
     "metadata": {},
     "output_type": "execute_result"
    }
   ],
   "source": [
    "G"
   ]
  },
  {
   "cell_type": "markdown",
   "metadata": {},
   "source": [
    "Insert an element of the RAG associated to G in this manner according to the function element. The first entry is the Tietze list of the word, i.e., a list of integers varying from -N to N (the number of vertices of the graph) except for 0.  The i-th entry of the list is a number n or -n according if the generator x_n or x_n^(-1) is in position i of the word. The second entry is the bicolored graph"
   ]
  },
  {
   "cell_type": "code",
   "execution_count": 4,
   "metadata": {},
   "outputs": [],
   "source": [
    "X=nf.element([3,6,1,4,2,4,3,5],G)\n",
    "Y=nf.element([5,6,3,1,3,4,2,4],G)"
   ]
  },
  {
   "cell_type": "markdown",
   "metadata": {},
   "source": [
    "Print the normal form of X in array format. More precisely, each row corresponds to the list of a left conductor and each column corresponds to a generator. Going from top to bottom, each entry is the power of the corresponding generator in the left conductor. Going from left to right anf from top to bottom we recover the normal form of the element"
   ]
  },
  {
   "cell_type": "code",
   "execution_count": 5,
   "metadata": {},
   "outputs": [
    {
     "data": {
      "text/plain": [
       "array([[0, 0, 1, 0, 0, 0],\n",
       "       [0, 0, 0, 0, 0, 1],\n",
       "       [1, 0, 1, 0, 0, 0],\n",
       "       [0, 0, 0, 1, 0, 0],\n",
       "       [0, 1, 0, 0, 0, 0],\n",
       "       [0, 0, 0, 1, 0, 0],\n",
       "       [0, 0, 0, 0, 1, 0]])"
      ]
     },
     "execution_count": 5,
     "metadata": {},
     "output_type": "execute_result"
    }
   ],
   "source": [
    "nf.normal_form(X)"
   ]
  },
  {
   "cell_type": "markdown",
   "metadata": {},
   "source": [
    "Print the normal form of Y"
   ]
  },
  {
   "cell_type": "code",
   "execution_count": 6,
   "metadata": {},
   "outputs": [
    {
     "data": {
      "text/plain": [
       "array([[0, 0, 0, 0, 1, 1],\n",
       "       [1, 0, 0, 0, 0, 0],\n",
       "       [0, 0, 0, 1, 0, 0],\n",
       "       [0, 1, 0, 0, 0, 0],\n",
       "       [0, 0, 0, 1, 0, 0]])"
      ]
     },
     "execution_count": 6,
     "metadata": {},
     "output_type": "execute_result"
    }
   ],
   "source": [
    "nf.normal_form(Y)"
   ]
  },
  {
   "cell_type": "markdown",
   "metadata": {},
   "source": [
    "Normal form of X returned as a Tietze list"
   ]
  },
  {
   "cell_type": "code",
   "execution_count": 7,
   "metadata": {},
   "outputs": [
    {
     "data": {
      "text/plain": [
       "[[3, 6, 1, 3, 4, 2, 4, 5, 'nan'],\n",
       " [<networkx.classes.graph.Graph at 0x7fce6d6273d0>, [[2, 3, 4, 5], [1, 6]]]]"
      ]
     },
     "execution_count": 7,
     "metadata": {},
     "output_type": "execute_result"
    }
   ],
   "source": [
    "nf.normal_form_tietze(X)"
   ]
  },
  {
   "cell_type": "markdown",
   "metadata": {},
   "source": [
    "Print the normal form of X and Y in terms of the generators x_i. It's possible to choose the variable that represents the generators (first argument)"
   ]
  },
  {
   "cell_type": "code",
   "execution_count": 8,
   "metadata": {},
   "outputs": [
    {
     "name": "stdout",
     "output_type": "stream",
     "text": [
      "Normal form of X: x3 x6 x1 x3 x4 x2 x4 x5 \n",
      "Normal form of Y: x5 x6 x1 x4 x2 x4 \n"
     ]
    }
   ],
   "source": [
    "print('Normal form of X:',nf.print_normal_form('x',X))\n",
    "print('Normal form of Y:',nf.print_normal_form('x',Y))"
   ]
  },
  {
   "cell_type": "markdown",
   "metadata": {},
   "source": [
    "Print whether the above elements X and Y are the same element"
   ]
  },
  {
   "cell_type": "code",
   "execution_count": 9,
   "metadata": {},
   "outputs": [
    {
     "data": {
      "text/plain": [
       "'No'"
      ]
     },
     "execution_count": 9,
     "metadata": {},
     "output_type": "execute_result"
    }
   ],
   "source": [
    "nf.are_equal(X,Y)"
   ]
  },
  {
   "cell_type": "markdown",
   "metadata": {},
   "source": [
    "Compute the product of the elements X and Y. The output is made by the Tietze list of the product word and the bicolored graph"
   ]
  },
  {
   "cell_type": "code",
   "execution_count": 10,
   "metadata": {},
   "outputs": [
    {
     "data": {
      "text/plain": [
       "[[3, 6, 1, 4, 2, 4, 3, 5, 5, 6, 3, 1, 3, 4, 2, 4, 'nan'],\n",
       " [<networkx.classes.graph.Graph at 0x7fce6d6273d0>, [[2, 3, 4, 5], [1, 6]]]]"
      ]
     },
     "execution_count": 10,
     "metadata": {},
     "output_type": "execute_result"
    }
   ],
   "source": [
    "XY=nf.dot([X,Y])\n",
    "XY"
   ]
  },
  {
   "cell_type": "markdown",
   "metadata": {},
   "source": [
    "Compute the normal form of the above product, printed as a Tietze list"
   ]
  },
  {
   "cell_type": "code",
   "execution_count": 11,
   "metadata": {},
   "outputs": [
    {
     "data": {
      "text/plain": [
       "[[3, 6, 1, 3, 4, 2, 4, 6, 1, 4, 2, 4, 'nan'],\n",
       " [<networkx.classes.graph.Graph at 0x7fce6d6273d0>, [[2, 3, 4, 5], [1, 6]]]]"
      ]
     },
     "execution_count": 11,
     "metadata": {},
     "output_type": "execute_result"
    }
   ],
   "source": [
    "nf.normal_form_tietze(XY)"
   ]
  },
  {
   "cell_type": "markdown",
   "metadata": {},
   "source": [
    "Print the normal form of XY"
   ]
  },
  {
   "cell_type": "code",
   "execution_count": 12,
   "metadata": {},
   "outputs": [
    {
     "name": "stdout",
     "output_type": "stream",
     "text": [
      "Normal form of XY: x3 x6 x1 x3 x4 x2 x4 x6 x1 x4 x2 x4 \n"
     ]
    }
   ],
   "source": [
    "print('Normal form of XY:',nf.print_normal_form('x',XY))"
   ]
  },
  {
   "cell_type": "code",
   "execution_count": null,
   "metadata": {},
   "outputs": [],
   "source": []
  }
 ],
 "metadata": {
  "kernelspec": {
   "display_name": "Python 3",
   "language": "python",
   "name": "python3"
  },
  "language_info": {
   "codemirror_mode": {
    "name": "ipython",
    "version": 3
   },
   "file_extension": ".py",
   "mimetype": "text/x-python",
   "name": "python",
   "nbconvert_exporter": "python",
   "pygments_lexer": "ipython3",
   "version": "3.10.4"
  }
 },
 "nbformat": 4,
 "nbformat_minor": 4
}
